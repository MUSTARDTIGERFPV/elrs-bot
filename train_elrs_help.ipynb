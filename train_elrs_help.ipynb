{
 "cells": [
  {
   "cell_type": "markdown",
   "id": "d7a60e54-0acc-460c-ac09-c10a331ad6a1",
   "metadata": {},
   "source": [
    "# Trains a model which returns whether a message is a request for help"
   ]
  },
  {
   "cell_type": "code",
   "execution_count": 26,
   "id": "aa8e0137-a7e9-4cab-8fd1-b4ee169cf29d",
   "metadata": {
    "tags": []
   },
   "outputs": [
    {
     "name": "stdout",
     "output_type": "stream",
     "text": [
      "The autoreload extension is already loaded. To reload it, use:\n",
      "  %reload_ext autoreload\n"
     ]
    }
   ],
   "source": [
    "# Imports\n",
    "%load_ext autoreload\n",
    "%autoreload 2\n",
    "import tensorflow as tf\n",
    "import tensorflow_addons as tfa\n",
    "import numpy as np\n",
    "import matplotlib.pyplot as plt\n",
    "import sqlite3\n",
    "import os\n",
    "import requests\n",
    "import sys\n",
    "import random\n",
    "import pydot\n",
    "import csv\n",
    "import re\n",
    "import string\n",
    "\n",
    "from tensorflow import keras\n",
    "from tensorflow.keras import layers\n",
    "from IPython.display import display\n",
    "from PIL import Image\n",
    "from matplotlib.pyplot import figure, imshow, axis\n",
    "from matplotlib.image import imread\n",
    "from tqdm.notebook import trange, tqdm\n",
    "from datetime import datetime\n",
    "from sklearn.metrics import ConfusionMatrixDisplay\n",
    "from sklearn.metrics import confusion_matrix"
   ]
  },
  {
   "cell_type": "code",
   "execution_count": 264,
   "id": "14104f66-21c8-4ad7-aac7-43ca3a499460",
   "metadata": {
    "tags": []
   },
   "outputs": [],
   "source": [
    "# Parameters\n",
    "BATCH_SIZE = 32\n",
    "VALIDATION_RATIO=0.1\n",
    "MODEL_NAME = \"help_and_support\"\n",
    "LABELS = [\"Yes\", \"No\"]\n",
    "\n",
    "EPOCHS = 10"
   ]
  },
  {
   "cell_type": "code",
   "execution_count": 228,
   "id": "62a10e5f-961c-47f6-821f-9fdc2d9edb9c",
   "metadata": {},
   "outputs": [
    {
     "name": "stdout",
     "output_type": "stream",
     "text": [
      "Read 504 rows\n",
      "Loaded 504 rows\n"
     ]
    }
   ],
   "source": [
    "# Gather input data\n",
    "\n",
    "columns = ['is_help_request', 'text']\n",
    "input_columns = len(columns)\n",
    "rows = []\n",
    "\n",
    "url = \"https://docs.google.com/spreadsheets/d/1qKpHCNOVqBrU1OxFLgV_Z0lEE0cJTdOdm-aZ1soDaag/export?format=csv&gid=1802577011\"\n",
    "\n",
    "csvfile = requests.get(url).content.decode('utf-8')\n",
    "\n",
    "reader = csv.reader(csvfile.splitlines(), delimiter=\",\", )\n",
    "next(reader) # Skip header\n",
    "for row in reader:\n",
    "    if len(row) == 0:\n",
    "        continue\n",
    "    rows.append(\n",
    "        list(row.copy())\n",
    "    )\n",
    "\n",
    "# TODO: Should probably add class weights if we have an imbalanced dataset\n",
    "#class_weights = {}\n",
    "#for i, e in enumerate(class_counts):\n",
    "#    class_weights[i] = (1 / class_counts[i]) * (len(rows) / 5.0)\n",
    "#print(F\"Class weight result: {class_weights}\")\n",
    "\n",
    "print(F\"Read {len(rows)} rows\")\n",
    "num_rows = len(rows)\n",
    "random.shuffle(rows)\n",
    "\n",
    "# Create a new Numpy array with just labels\n",
    "inputs = np.array(list(\n",
    "    map(lambda x: x[1], rows.copy()\n",
    ")))\n",
    "labels = np.array(list(\n",
    "    map(lambda x: float(x[0]), rows.copy()\n",
    ")))\n",
    "print(F\"Loaded {num_rows} rows\")"
   ]
  },
  {
   "cell_type": "code",
   "execution_count": 231,
   "id": "37ccb77d-0796-474a-92fb-b58bbd9de696",
   "metadata": {},
   "outputs": [
    {
     "name": "stdout",
     "output_type": "stream",
     "text": [
      "Creating training dataset n=454\n",
      "Creating validation dataset n=50\n"
     ]
    }
   ],
   "source": [
    "# Create a dataset & split it into training & validation\n",
    "dataset = tf.data.Dataset.from_tensor_slices((inputs, labels))\n",
    "val_size = int(num_rows * VALIDATION_RATIO)\n",
    "print(F\"Creating training dataset n={num_rows - val_size}\")\n",
    "print(F\"Creating validation dataset n={val_size}\")\n",
    "raw_train_ds = dataset.skip(val_size).batch(BATCH_SIZE)\n",
    "raw_val_ds = dataset.take(val_size).batch(BATCH_SIZE)"
   ]
  },
  {
   "cell_type": "code",
   "execution_count": 276,
   "id": "f91f063d-0b70-4437-aeed-7815ade00dd7",
   "metadata": {},
   "outputs": [],
   "source": [
    "# Vectorize inputs\n",
    "max_features = 5000\n",
    "sequence_length = 150\n",
    "\n",
    "vectorize_layer = layers.TextVectorization(\n",
    "    standardize='lower_and_strip_punctuation',\n",
    "    max_tokens=max_features,\n",
    "    output_mode='int',\n",
    "    output_sequence_length=sequence_length)\n",
    "train_text = raw_train_ds.map(lambda x, y: x)\n",
    "vectorize_layer.adapt(train_text)\n",
    "def vectorize_text(text, label):\n",
    "  text = tf.expand_dims(text, -1)\n",
    "  return vectorize_layer(text), label\n",
    "\n",
    "train_ds = raw_train_ds.map(vectorize_text)\n",
    "val_ds = raw_val_ds.map(vectorize_text)"
   ]
  },
  {
   "cell_type": "code",
   "execution_count": 277,
   "id": "8468a1bb-c3b5-4352-8fe4-c8aec22a6ecd",
   "metadata": {},
   "outputs": [
    {
     "name": "stdout",
     "output_type": "stream",
     "text": [
      "Model: \"sequential_110\"\n",
      "_________________________________________________________________\n",
      " Layer (type)                Output Shape              Param #   \n",
      "=================================================================\n",
      " embedding_44 (Embedding)    (None, None, 8)           40008     \n",
      "                                                                 \n",
      " dropout_88 (Dropout)        (None, None, 8)           0         \n",
      "                                                                 \n",
      " global_average_pooling1d_44  (None, 8)                0         \n",
      "  (GlobalAveragePooling1D)                                       \n",
      "                                                                 \n",
      " dropout_89 (Dropout)        (None, 8)                 0         \n",
      "                                                                 \n",
      " dense_44 (Dense)            (None, 1)                 9         \n",
      "                                                                 \n",
      "=================================================================\n",
      "Total params: 40,017\n",
      "Trainable params: 40,017\n",
      "Non-trainable params: 0\n",
      "_________________________________________________________________\n",
      "You must install pydot (`pip install pydot`) and install graphviz (see instructions at https://graphviz.gitlab.io/download/) for plot_model/model_to_dot to work.\n"
     ]
    }
   ],
   "source": [
    "# Define models\n",
    "\n",
    "# 8-dimension embedding is a reasonable choice for our small dataset. If we grow past ~5000 examples, maybe tick this up a bit.\n",
    "embedding_dim = 8\n",
    "\n",
    "models = {}\n",
    "models['simple'] = tf.keras.Sequential([\n",
    "  layers.Embedding(max_features + 1, embedding_dim),\n",
    "  layers.Dropout(0.2),\n",
    "  layers.GlobalAveragePooling1D(),\n",
    "  layers.Dropout(0.2),\n",
    "  layers.Dense(1)\n",
    "])\n",
    "models['simple'].summary()\n",
    "models['simple'].compile(loss=tf.losses.BinaryCrossentropy(from_logits=True),\n",
    "              optimizer=tf.keras.optimizers.Adam(learning_rate=0.05),\n",
    "              metrics=tf.metrics.BinaryAccuracy(threshold=0.5))\n",
    "\n",
    "for name, model in models.items():\n",
    "    tf.keras.utils.plot_model(model, show_shapes=True, show_layer_names=True)"
   ]
  },
  {
   "cell_type": "code",
   "execution_count": 278,
   "id": "49324f6a-63fa-461f-8885-a0529561ab5e",
   "metadata": {},
   "outputs": [
    {
     "name": "stdout",
     "output_type": "stream",
     "text": [
      "Fitting simple...\n"
     ]
    },
    {
     "data": {
      "application/vnd.jupyter.widget-view+json": {
       "model_id": "51c24967b694416a89fbe5e7a91a9fdd",
       "version_major": 2,
       "version_minor": 0
      },
      "text/plain": [
       "Training:   0%|                                                                                               …"
      ]
     },
     "metadata": {},
     "output_type": "display_data"
    },
    {
     "name": "stdout",
     "output_type": "stream",
     "text": [
      "Epoch 1/10\n"
     ]
    },
    {
     "data": {
      "application/vnd.jupyter.widget-view+json": {
       "model_id": "82c08a844cb643159d8f24da60e1e4e8",
       "version_major": 2,
       "version_minor": 0
      },
      "text/plain": [
       "0/15                                                                                                          …"
      ]
     },
     "metadata": {},
     "output_type": "display_data"
    },
    {
     "name": "stdout",
     "output_type": "stream",
     "text": [
      "Epoch 2/10\n"
     ]
    },
    {
     "data": {
      "application/vnd.jupyter.widget-view+json": {
       "model_id": "1e3528da92894c39b1ab9205cb59df97",
       "version_major": 2,
       "version_minor": 0
      },
      "text/plain": [
       "0/15                                                                                                          …"
      ]
     },
     "metadata": {},
     "output_type": "display_data"
    },
    {
     "name": "stdout",
     "output_type": "stream",
     "text": [
      "Epoch 3/10\n"
     ]
    },
    {
     "data": {
      "application/vnd.jupyter.widget-view+json": {
       "model_id": "5bd45d6105574d64aee71d1a5facf3a3",
       "version_major": 2,
       "version_minor": 0
      },
      "text/plain": [
       "0/15                                                                                                          …"
      ]
     },
     "metadata": {},
     "output_type": "display_data"
    },
    {
     "name": "stdout",
     "output_type": "stream",
     "text": [
      "Epoch 4/10\n"
     ]
    },
    {
     "data": {
      "application/vnd.jupyter.widget-view+json": {
       "model_id": "73b12e06b68c461fb43a8d08c8c9d8be",
       "version_major": 2,
       "version_minor": 0
      },
      "text/plain": [
       "0/15                                                                                                          …"
      ]
     },
     "metadata": {},
     "output_type": "display_data"
    },
    {
     "name": "stdout",
     "output_type": "stream",
     "text": [
      "Epoch 5/10\n"
     ]
    },
    {
     "data": {
      "application/vnd.jupyter.widget-view+json": {
       "model_id": "a08b5ef7669c4f06a55ae1d43326a6b0",
       "version_major": 2,
       "version_minor": 0
      },
      "text/plain": [
       "0/15                                                                                                          …"
      ]
     },
     "metadata": {},
     "output_type": "display_data"
    },
    {
     "name": "stdout",
     "output_type": "stream",
     "text": [
      "Epoch 6/10\n"
     ]
    },
    {
     "data": {
      "application/vnd.jupyter.widget-view+json": {
       "model_id": "a0f94113714f40a98c167b980a5dd64b",
       "version_major": 2,
       "version_minor": 0
      },
      "text/plain": [
       "0/15                                                                                                          …"
      ]
     },
     "metadata": {},
     "output_type": "display_data"
    },
    {
     "name": "stdout",
     "output_type": "stream",
     "text": [
      "Epoch 7/10\n"
     ]
    },
    {
     "data": {
      "application/vnd.jupyter.widget-view+json": {
       "model_id": "807d49ea3af448d7887aa0014b7175fc",
       "version_major": 2,
       "version_minor": 0
      },
      "text/plain": [
       "0/15                                                                                                          …"
      ]
     },
     "metadata": {},
     "output_type": "display_data"
    },
    {
     "name": "stdout",
     "output_type": "stream",
     "text": [
      "Epoch 8/10\n"
     ]
    },
    {
     "data": {
      "application/vnd.jupyter.widget-view+json": {
       "model_id": "1779bf7a087b4f6ba1fd46437e831991",
       "version_major": 2,
       "version_minor": 0
      },
      "text/plain": [
       "0/15                                                                                                          …"
      ]
     },
     "metadata": {},
     "output_type": "display_data"
    },
    {
     "name": "stdout",
     "output_type": "stream",
     "text": [
      "Epoch 9/10\n"
     ]
    },
    {
     "data": {
      "application/vnd.jupyter.widget-view+json": {
       "model_id": "935983c750c549feb1bb9228afbc37bd",
       "version_major": 2,
       "version_minor": 0
      },
      "text/plain": [
       "0/15                                                                                                          …"
      ]
     },
     "metadata": {},
     "output_type": "display_data"
    },
    {
     "name": "stdout",
     "output_type": "stream",
     "text": [
      "Epoch 10/10\n"
     ]
    },
    {
     "data": {
      "application/vnd.jupyter.widget-view+json": {
       "model_id": "b49820b2e9cf49c6a76281cadb32ee3d",
       "version_major": 2,
       "version_minor": 0
      },
      "text/plain": [
       "0/15                                                                                                          …"
      ]
     },
     "metadata": {},
     "output_type": "display_data"
    },
    {
     "data": {
      "image/png": "[encoded data removed]",
      "text/plain": [
       "<Figure size 432x288 with 1 Axes>"
      ]
     },
     "metadata": {
      "needs_background": "light"
     },
     "output_type": "display_data"
    }
   ],
   "source": [
    "# Fit the model\n",
    "for name, model in models.items():\n",
    "    print(F\"Fitting {name}...\")\n",
    "    history = model.fit(\n",
    "      train_ds,\n",
    "      validation_data=val_ds,\n",
    "      epochs=EPOCHS,\n",
    "      callbacks=[\n",
    "          tfa.callbacks.TQDMProgressBar(),\n",
    "          keras.callbacks.ReduceLROnPlateau(monitor='val_loss', factor=0.1, patience=3)\n",
    "      ],\n",
    "      #class_weight=class_weights,\n",
    "      verbose=0,\n",
    "    )\n",
    "    # Show the loss over time\n",
    "    plt.plot(history.history['binary_accuracy'])\n",
    "    plt.plot(history.history['val_binary_accuracy'])\n",
    "    plt.title(F'Accuracy for {name}')\n",
    "    plt.ylabel('accuracy')\n",
    "    plt.xlabel('epoch')\n",
    "    plt.legend(['train', 'test'], loc='upper left')\n",
    "    plt.show()"
   ]
  },
  {
   "cell_type": "code",
   "execution_count": 279,
   "id": "39d63ebe-0b83-4215-b855-eb41276b1f14",
   "metadata": {},
   "outputs": [
    {
     "name": "stdout",
     "output_type": "stream",
     "text": [
      "INFO:tensorflow:Assets written to: ../saved_model/help_and_support_simple2023-01-09T17:55:21.540697/assets\n",
      "98% confidence: \"Hey guys, I'm new here, can I get some help setting up ELRS?\" \n",
      "99% confidence: \"I can't seem to get my Mobula 6 to bind with my TX16S\" \n",
      "86% confidence: \"Hi guys, I'm new to ELRS and excited to fly since I'm all set up!\" \n",
      "99% confidence: \"Can anyone help me figure out why my link drops when I use VTX Admin?\" \n",
      "89% confidence: \"I just got a Crux 3 and can't figure out how to set up the SPI receiver, anyone know how to do that?\" \n",
      "85% confidence: \"Is there anyone here who has experience with the Crux 3 and the Jumper T-Pro?\" \n",
      "83% confidence: \"How do I turn off model match?\" \n",
      "89% confidence: \"How do I flash an RX with the TX firmware?\" \n",
      "30% confidence: \"Thanks for all the help and support!\" \n",
      "67% confidence: \"Hey guys how's everyone doing?\" \n",
      "71% confidence: \"Why would I want to use that?\" \n",
      "67% confidence: \"I solder things with a copper block\" \n",
      "59% confidence: \"What time is it?\" \n",
      "22% confidence: \"A TCXO is a fixed-frequency crystal, not affected by temperature\" \n",
      "63% confidence: \"Could you do me a favor?\" \n",
      "54% confidence: \"Should I take general chat maybe?\" \n",
      "70% confidence: \"You should connect to the WiFi and use the /hardware.html page\" \n",
      "30% confidence: \"Thanks for the link! That's awesome\" \n",
      "68% confidence: \"What?\" \n"
     ]
    }
   ],
   "source": [
    "# Create a model that's ready to use\n",
    "\n",
    "export_model = tf.keras.Sequential([\n",
    "  vectorize_layer,\n",
    "  model,\n",
    "  layers.Activation('sigmoid')\n",
    "])\n",
    "\n",
    "export_model.compile(\n",
    "    loss=tf.losses.BinaryCrossentropy(from_logits=False), optimizer=\"adam\", metrics=['accuracy']\n",
    ")\n",
    "\n",
    "# Save it\n",
    "export_model.save(F'../saved_model/{MODEL_NAME}_' + name + datetime.now().strftime('%Y-%m-%dT%H:%M:%S.%f%z'))\n",
    "\n",
    "# Test it\n",
    "inputs = [\n",
    "    \"Hey guys, I'm new here, can I get some help setting up ELRS?\",\n",
    "    \"I can't seem to get my Mobula 6 to bind with my TX16S\",\n",
    "    \"Hi guys, I'm new to ELRS and excited to fly since I'm all set up!\",\n",
    "    \"Can anyone help me figure out why my link drops when I use VTX Admin?\",\n",
    "    \"I just got a Crux 3 and can't figure out how to set up the SPI receiver, anyone know how to do that?\",\n",
    "    \"Is there anyone here who has experience with the Crux 3 and the Jumper T-Pro?\",\n",
    "    \"How do I turn off model match?\",\n",
    "    \"How do I flash an RX with the TX firmware?\",\n",
    "    \"Thanks for all the help and support!\",\n",
    "    \"Hey guys how's everyone doing?\",\n",
    "    \"Why would I want to use that?\",\n",
    "    \"I solder things with a copper block\",\n",
    "    \"What time is it?\",\n",
    "    \"A TCXO is a fixed-frequency crystal, not affected by temperature\",\n",
    "    \"Could you do me a favor?\",\n",
    "    \"Should I take general chat maybe?\",\n",
    "    \"You should connect to the WiFi and use the /hardware.html page\",\n",
    "    \"Thanks for the link! That's awesome\",\n",
    "    \"What?\",\n",
    "]\n",
    "\n",
    "results = export_model.predict(inputs, verbose=0)\n",
    "results_percentages = list(map(lambda x: round(x[0] * 100), results.tolist()))\n",
    "for i in range(len(results)):\n",
    "    print(f\"{results_percentages[i]}% confidence: \\\"{inputs[i]}\\\" \") "
   ]
  }
 ],
 "metadata": {
  "kernelspec": {
   "display_name": "Python 3 (ipykernel)",
   "language": "python",
   "name": "python3"
  },
  "language_info": {
   "codemirror_mode": {
    "name": "ipython",
    "version": 3
   },
   "file_extension": ".py",
   "mimetype": "text/x-python",
   "name": "python",
   "nbconvert_exporter": "python",
   "pygments_lexer": "ipython3",
   "version": "3.10.6"
  },
  "toc-showcode": true
 },
 "nbformat": 4,
 "nbformat_minor": 5
}
