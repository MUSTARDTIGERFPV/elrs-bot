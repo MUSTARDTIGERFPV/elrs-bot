{
 "cells": [
  {
   "cell_type": "markdown",
   "id": "d7a60e54-0acc-460c-ac09-c10a331ad6a1",
   "metadata": {},
   "source": [
    "# Trains a model which returns whether a message is a request for help"
   ]
  },
  {
   "cell_type": "code",
   "execution_count": 1,
   "id": "aa8e0137-a7e9-4cab-8fd1-b4ee169cf29d",
   "metadata": {
    "tags": []
   },
   "outputs": [],
   "source": [
    "# Imports\n",
    "%load_ext autoreload\n",
    "%autoreload 2\n",
    "import tensorflow as tf\n",
    "import tensorflow_addons as tfa\n",
    "import numpy as np\n",
    "import matplotlib.pyplot as plt\n",
    "import sqlite3\n",
    "import os\n",
    "import requests\n",
    "import sys\n",
    "import random\n",
    "import pydot\n",
    "import csv\n",
    "import re\n",
    "import string\n",
    "\n",
    "from tensorflow import keras\n",
    "from tensorflow.keras import layers\n",
    "from IPython.display import display\n",
    "from PIL import Image\n",
    "from matplotlib.pyplot import figure, imshow, axis\n",
    "from matplotlib.image import imread\n",
    "from tqdm.notebook import trange, tqdm\n",
    "from datetime import datetime\n",
    "from sklearn.metrics import ConfusionMatrixDisplay\n",
    "from sklearn.metrics import confusion_matrix"
   ]
  },
  {
   "cell_type": "code",
   "execution_count": 2,
   "id": "14104f66-21c8-4ad7-aac7-43ca3a499460",
   "metadata": {
    "tags": []
   },
   "outputs": [],
   "source": [
    "# Parameters\n",
    "BATCH_SIZE = 64\n",
    "VALIDATION_RATIO=0.1\n",
    "MODEL_NAME = \"help_and_support\"\n",
    "LABELS = [\"Yes\", \"No\"]\n",
    "\n",
    "EPOCHS = 25"
   ]
  },
  {
   "cell_type": "code",
   "execution_count": 3,
   "id": "62a10e5f-961c-47f6-821f-9fdc2d9edb9c",
   "metadata": {},
   "outputs": [
    {
     "name": "stdout",
     "output_type": "stream",
     "text": [
      "Read 802 rows\n",
      "Class weight result: {0: 0.5, 1: 0.5}\n",
      "Loaded 401 false and 401 true rows\n"
     ]
    },
    {
     "name": "stderr",
     "output_type": "stream",
     "text": [
      "2023-04-21 23:08:14.952931: I tensorflow/stream_executor/cuda/cuda_gpu_executor.cc:975] successful NUMA node read from SysFS had negative value (-1), but there must be at least one NUMA node, so returning NUMA node zero\n",
      "2023-04-21 23:08:15.101617: I tensorflow/stream_executor/cuda/cuda_gpu_executor.cc:975] successful NUMA node read from SysFS had negative value (-1), but there must be at least one NUMA node, so returning NUMA node zero\n",
      "2023-04-21 23:08:15.102032: I tensorflow/stream_executor/cuda/cuda_gpu_executor.cc:975] successful NUMA node read from SysFS had negative value (-1), but there must be at least one NUMA node, so returning NUMA node zero\n",
      "2023-04-21 23:08:15.104522: I tensorflow/core/platform/cpu_feature_guard.cc:193] This TensorFlow binary is optimized with oneAPI Deep Neural Network Library (oneDNN) to use the following CPU instructions in performance-critical operations:  AVX2 FMA\n",
      "To enable them in other operations, rebuild TensorFlow with the appropriate compiler flags.\n",
      "2023-04-21 23:08:15.106140: I tensorflow/stream_executor/cuda/cuda_gpu_executor.cc:975] successful NUMA node read from SysFS had negative value (-1), but there must be at least one NUMA node, so returning NUMA node zero\n",
      "2023-04-21 23:08:15.106493: I tensorflow/stream_executor/cuda/cuda_gpu_executor.cc:975] successful NUMA node read from SysFS had negative value (-1), but there must be at least one NUMA node, so returning NUMA node zero\n",
      "2023-04-21 23:08:15.106725: I tensorflow/stream_executor/cuda/cuda_gpu_executor.cc:975] successful NUMA node read from SysFS had negative value (-1), but there must be at least one NUMA node, so returning NUMA node zero\n",
      "2023-04-21 23:08:16.492355: I tensorflow/stream_executor/cuda/cuda_gpu_executor.cc:975] successful NUMA node read from SysFS had negative value (-1), but there must be at least one NUMA node, so returning NUMA node zero\n",
      "2023-04-21 23:08:16.492729: I tensorflow/stream_executor/cuda/cuda_gpu_executor.cc:975] successful NUMA node read from SysFS had negative value (-1), but there must be at least one NUMA node, so returning NUMA node zero\n",
      "2023-04-21 23:08:16.492982: I tensorflow/stream_executor/cuda/cuda_gpu_executor.cc:975] successful NUMA node read from SysFS had negative value (-1), but there must be at least one NUMA node, so returning NUMA node zero\n",
      "2023-04-21 23:08:16.493193: I tensorflow/core/common_runtime/gpu/gpu_device.cc:1532] Created device /job:localhost/replica:0/task:0/device:GPU:0 with 3384 MB memory:  -> device: 0, name: Quadro M2000, pci bus id: 0000:01:00.0, compute capability: 5.2\n"
     ]
    },
    {
     "name": "stdout",
     "output_type": "stream",
     "text": [
      "Creating training dataset n=722\n",
      "Creating validation dataset n=80\n"
     ]
    }
   ],
   "source": [
    "# Gather input data\n",
    "\n",
    "columns = ['is_help_request', 'text']\n",
    "input_columns = len(columns)\n",
    "rows = []\n",
    "\n",
    "url = \"https://docs.google.com/spreadsheets/d/1qKpHCNOVqBrU1OxFLgV_Z0lEE0cJTdOdm-aZ1soDaag/export?format=csv&gid=1802577011\"\n",
    "\n",
    "csvfile = requests.get(url).content.decode('utf-8')\n",
    "\n",
    "reader = csv.reader(csvfile.splitlines(), delimiter=\",\", )\n",
    "next(reader) # Skip header\n",
    "for row in reader:\n",
    "    if len(row) == 0:\n",
    "        continue\n",
    "    rows.append(\n",
    "        list(row.copy())\n",
    "    )\n",
    "\n",
    "print(F\"Read {len(rows)} rows\")\n",
    "num_rows = len(rows)\n",
    "np.random.seed(0)\n",
    "np.random.shuffle(rows)\n",
    "\n",
    "# Generate class weights\n",
    "class_counts = []\n",
    "class_counts.append(sum(map(lambda x: 1 if int(x[0]) == 0 else 0, rows)))\n",
    "class_counts.append(sum(map(lambda x: 1 if int(x[0]) == 1 else 0, rows)))\n",
    "\n",
    "class_weights = {}\n",
    "for i, e in enumerate(class_counts):\n",
    "   class_weights[i] = (class_counts[i] / num_rows)\n",
    "print(F\"Class weight result: {class_weights}\")\n",
    "\n",
    "# Create a new Numpy array with just labels\n",
    "inputs = np.array(list(\n",
    "    map(lambda x: x[1], rows.copy()\n",
    ")))\n",
    "labels = np.array(list(\n",
    "    map(lambda x: float(x[0]), rows.copy()\n",
    ")))\n",
    "print(F\"Loaded {class_counts[0]} false and {class_counts[1]} true rows\")\n",
    "\n",
    "# Create a dataset & split it into training & validation\n",
    "dataset = tf.data.Dataset.from_tensor_slices((inputs, labels))\n",
    "val_size = int(num_rows * VALIDATION_RATIO)\n",
    "print(F\"Creating training dataset n={num_rows - val_size}\")\n",
    "print(F\"Creating validation dataset n={val_size}\")\n",
    "raw_train_ds = dataset.skip(val_size).batch(BATCH_SIZE)\n",
    "raw_val_ds = dataset.take(val_size).batch(BATCH_SIZE)\n",
    "\n",
    "# Vectorize inputs\n",
    "max_features = 3000\n",
    "sequence_length = 150\n",
    "\n",
    "vectorize_layer = layers.TextVectorization(\n",
    "    standardize='lower_and_strip_punctuation',\n",
    "    max_tokens=max_features,\n",
    "    output_mode='int',\n",
    "    output_sequence_length=sequence_length)\n",
    "train_text = raw_train_ds.map(lambda x, y: x)\n",
    "vectorize_layer.adapt(train_text)\n",
    "def vectorize_text(text, label):\n",
    "  text = tf.expand_dims(text, -1)\n",
    "  return vectorize_layer(text), label\n",
    "\n",
    "train_ds = raw_train_ds.map(vectorize_text)\n",
    "val_ds = raw_val_ds.map(vectorize_text)"
   ]
  },
  {
   "cell_type": "code",
   "execution_count": 10,
   "id": "8468a1bb-c3b5-4352-8fe4-c8aec22a6ecd",
   "metadata": {},
   "outputs": [
    {
     "name": "stdout",
     "output_type": "stream",
     "text": [
      "Model: \"sequential_4\"\n",
      "_________________________________________________________________\n",
      " Layer (type)                Output Shape              Param #   \n",
      "=================================================================\n",
      " embedding_4 (Embedding)     (None, None, 64)          192064    \n",
      "                                                                 \n",
      " bidirectional_10 (Bidirecti  (None, None, 256)        197632    \n",
      " onal)                                                           \n",
      "                                                                 \n",
      " bidirectional_11 (Bidirecti  (None, None, 256)        394240    \n",
      " onal)                                                           \n",
      "                                                                 \n",
      " bidirectional_12 (Bidirecti  (None, 128)              164352    \n",
      " onal)                                                           \n",
      "                                                                 \n",
      " dropout_5 (Dropout)         (None, 128)               0         \n",
      "                                                                 \n",
      " dense_8 (Dense)             (None, 64)                8256      \n",
      "                                                                 \n",
      " dropout_6 (Dropout)         (None, 64)                0         \n",
      "                                                                 \n",
      " dense_9 (Dense)             (None, 1)                 65        \n",
      "                                                                 \n",
      "=================================================================\n",
      "Total params: 956,609\n",
      "Trainable params: 956,609\n",
      "Non-trainable params: 0\n",
      "_________________________________________________________________\n",
      "You must install pydot (`pip install pydot`) and install graphviz (see instructions at https://graphviz.gitlab.io/download/) for plot_model/model_to_dot to work.\n"
     ]
    }
   ],
   "source": [
    "# Define models\n",
    "\n",
    "# A small embedding is a reasonable choice for our small dataset. If we grow past ~5000 examples, maybe tick this up a bit.\n",
    "embedding_dim = 64\n",
    "\n",
    "models = {}\n",
    "models['simple'] = tf.keras.Sequential([\n",
    "  layers.Embedding(max_features + 1, embedding_dim, mask_zero=False),\n",
    "  layers.Bidirectional(tf.keras.layers.LSTM(embedding_dim * 2, return_sequences=True)),\n",
    "  layers.Bidirectional(tf.keras.layers.LSTM(embedding_dim * 2, return_sequences=True)),\n",
    "  layers.Bidirectional(tf.keras.layers.LSTM(embedding_dim * 1)),\n",
    "  layers.Dropout(.1),\n",
    "  layers.Dense(embedding_dim, activation='relu'),\n",
    "  layers.Dropout(.2),\n",
    "  layers.Dense(1),\n",
    "])\n",
    "models['simple'].summary()\n",
    "models['simple'].compile(loss=tf.losses.BinaryCrossentropy(from_logits=True),\n",
    "              optimizer=tf.keras.optimizers.Adam(learning_rate=0.0001),\n",
    "              metrics=tf.metrics.BinaryAccuracy(threshold=0.8))\n",
    "\n",
    "for name, model in models.items():\n",
    "    tf.keras.utils.plot_model(model, show_shapes=True, show_layer_names=True)"
   ]
  },
  {
   "cell_type": "code",
   "execution_count": 11,
   "id": "49324f6a-63fa-461f-8885-a0529561ab5e",
   "metadata": {},
   "outputs": [
    {
     "name": "stdout",
     "output_type": "stream",
     "text": [
      "Fitting simple...\n"
     ]
    },
    {
     "data": {
      "application/vnd.jupyter.widget-view+json": {
       "model_id": "62b166477928459e930d0c4e85f45193",
       "version_major": 2,
       "version_minor": 0
      },
      "text/plain": [
       "Training:   0%|                                                                                               …"
      ]
     },
     "metadata": {},
     "output_type": "display_data"
    },
    {
     "name": "stdout",
     "output_type": "stream",
     "text": [
      "Epoch 1/15\n"
     ]
    },
    {
     "data": {
      "application/vnd.jupyter.widget-view+json": {
       "model_id": "a764c58d83dc403aa7c9837a4d45d0f9",
       "version_major": 2,
       "version_minor": 0
      },
      "text/plain": [
       "0/12                                                                                                          …"
      ]
     },
     "metadata": {},
     "output_type": "display_data"
    },
    {
     "name": "stdout",
     "output_type": "stream",
     "text": [
      "Epoch 2/15\n"
     ]
    },
    {
     "data": {
      "application/vnd.jupyter.widget-view+json": {
       "model_id": "59d8fecddfda42fca6b5dbce0d6ecf7c",
       "version_major": 2,
       "version_minor": 0
      },
      "text/plain": [
       "0/12                                                                                                          …"
      ]
     },
     "metadata": {},
     "output_type": "display_data"
    },
    {
     "name": "stdout",
     "output_type": "stream",
     "text": [
      "Epoch 3/15\n"
     ]
    },
    {
     "data": {
      "application/vnd.jupyter.widget-view+json": {
       "model_id": "724417dd3d994c8e8bdf6dab15baffd6",
       "version_major": 2,
       "version_minor": 0
      },
      "text/plain": [
       "0/12                                                                                                          …"
      ]
     },
     "metadata": {},
     "output_type": "display_data"
    },
    {
     "name": "stdout",
     "output_type": "stream",
     "text": [
      "Epoch 4/15\n"
     ]
    },
    {
     "data": {
      "application/vnd.jupyter.widget-view+json": {
       "model_id": "e469bece01664cf5853496217e7ac130",
       "version_major": 2,
       "version_minor": 0
      },
      "text/plain": [
       "0/12                                                                                                          …"
      ]
     },
     "metadata": {},
     "output_type": "display_data"
    },
    {
     "name": "stdout",
     "output_type": "stream",
     "text": [
      "Epoch 5/15\n"
     ]
    },
    {
     "data": {
      "application/vnd.jupyter.widget-view+json": {
       "model_id": "eb8feb07012a4132aea5cf61c2bf7dfb",
       "version_major": 2,
       "version_minor": 0
      },
      "text/plain": [
       "0/12                                                                                                          …"
      ]
     },
     "metadata": {},
     "output_type": "display_data"
    },
    {
     "name": "stdout",
     "output_type": "stream",
     "text": [
      "Epoch 6/15\n"
     ]
    },
    {
     "data": {
      "application/vnd.jupyter.widget-view+json": {
       "model_id": "06a84a1f6c19437cbd9715fa0cd1beb2",
       "version_major": 2,
       "version_minor": 0
      },
      "text/plain": [
       "0/12                                                                                                          …"
      ]
     },
     "metadata": {},
     "output_type": "display_data"
    },
    {
     "name": "stdout",
     "output_type": "stream",
     "text": [
      "Epoch 7/15\n"
     ]
    },
    {
     "data": {
      "application/vnd.jupyter.widget-view+json": {
       "model_id": "83e541d7ef5940be8e5e9e4225bf2858",
       "version_major": 2,
       "version_minor": 0
      },
      "text/plain": [
       "0/12                                                                                                          …"
      ]
     },
     "metadata": {},
     "output_type": "display_data"
    },
    {
     "name": "stdout",
     "output_type": "stream",
     "text": [
      "Epoch 8/15\n"
     ]
    },
    {
     "data": {
      "application/vnd.jupyter.widget-view+json": {
       "model_id": "68093b29682f463aa8fcaae851462f01",
       "version_major": 2,
       "version_minor": 0
      },
      "text/plain": [
       "0/12                                                                                                          …"
      ]
     },
     "metadata": {},
     "output_type": "display_data"
    },
    {
     "name": "stdout",
     "output_type": "stream",
     "text": [
      "Epoch 9/15\n"
     ]
    },
    {
     "data": {
      "application/vnd.jupyter.widget-view+json": {
       "model_id": "66dda7d13c034a1298906ca611a0ae6b",
       "version_major": 2,
       "version_minor": 0
      },
      "text/plain": [
       "0/12                                                                                                          …"
      ]
     },
     "metadata": {},
     "output_type": "display_data"
    },
    {
     "name": "stdout",
     "output_type": "stream",
     "text": [
      "Epoch 10/15\n"
     ]
    },
    {
     "data": {
      "application/vnd.jupyter.widget-view+json": {
       "model_id": "67128856c0714acf8be3673d3162da9a",
       "version_major": 2,
       "version_minor": 0
      },
      "text/plain": [
       "0/12                                                                                                          …"
      ]
     },
     "metadata": {},
     "output_type": "display_data"
    },
    {
     "name": "stdout",
     "output_type": "stream",
     "text": [
      "Epoch 11/15\n"
     ]
    },
    {
     "data": {
      "application/vnd.jupyter.widget-view+json": {
       "model_id": "90f561e04aaf4fc996b8c6b23da66be4",
       "version_major": 2,
       "version_minor": 0
      },
      "text/plain": [
       "0/12                                                                                                          …"
      ]
     },
     "metadata": {},
     "output_type": "display_data"
    },
    {
     "name": "stdout",
     "output_type": "stream",
     "text": [
      "Epoch 12/15\n"
     ]
    },
    {
     "data": {
      "application/vnd.jupyter.widget-view+json": {
       "model_id": "6ccb3afafe8d48ae9bffd4f21bec49f5",
       "version_major": 2,
       "version_minor": 0
      },
      "text/plain": [
       "0/12                                                                                                          …"
      ]
     },
     "metadata": {},
     "output_type": "display_data"
    },
    {
     "name": "stdout",
     "output_type": "stream",
     "text": [
      "Epoch 13/15\n"
     ]
    },
    {
     "data": {
      "application/vnd.jupyter.widget-view+json": {
       "model_id": "550becb534a8415c8c5e0cf05bfb1f11",
       "version_major": 2,
       "version_minor": 0
      },
      "text/plain": [
       "0/12                                                                                                          …"
      ]
     },
     "metadata": {},
     "output_type": "display_data"
    },
    {
     "name": "stdout",
     "output_type": "stream",
     "text": [
      "Epoch 14/15\n"
     ]
    },
    {
     "data": {
      "application/vnd.jupyter.widget-view+json": {
       "model_id": "0fbcace067df4563ae26708652d6ebee",
       "version_major": 2,
       "version_minor": 0
      },
      "text/plain": [
       "0/12                                                                                                          …"
      ]
     },
     "metadata": {},
     "output_type": "display_data"
    },
    {
     "name": "stdout",
     "output_type": "stream",
     "text": [
      "Epoch 15/15\n"
     ]
    },
    {
     "data": {
      "application/vnd.jupyter.widget-view+json": {
       "model_id": "b9ac0d0b3fd047d089834cd987643aab",
       "version_major": 2,
       "version_minor": 0
      },
      "text/plain": [
       "0/12                                                                                                          …"
      ]
     },
     "metadata": {},
     "output_type": "display_data"
    },
    {
     "data": {
      "image/png": "[encoded data removed]",
      "text/plain": [
       "<Figure size 432x288 with 1 Axes>"
      ]
     },
     "metadata": {
      "needs_background": "light"
     },
     "output_type": "display_data"
    },
    {
     "data": {
      "image/png": "[encoded data removed]",
      "text/plain": [
       "<Figure size 432x288 with 1 Axes>"
      ]
     },
     "metadata": {
      "needs_background": "light"
     },
     "output_type": "display_data"
    }
   ],
   "source": [
    "# Fit the model\n",
    "for name, model in models.items():\n",
    "    print(F\"Fitting {name}...\")\n",
    "    history = model.fit(\n",
    "      train_ds,\n",
    "      validation_data=val_ds,\n",
    "      epochs=15,\n",
    "      callbacks=[\n",
    "          tfa.callbacks.TQDMProgressBar(),\n",
    "          keras.callbacks.ReduceLROnPlateau(monitor='val_loss', factor=0.1, patience=3)\n",
    "      ],\n",
    "      #class_weight=class_weights,\n",
    "      verbose=0,\n",
    "    )\n",
    "    # Show the loss over time\n",
    "    plt.plot(history.history['loss'])\n",
    "    plt.plot(history.history['val_loss'])\n",
    "    plt.title(F'Loss for {name}')\n",
    "    plt.ylabel('loss')\n",
    "    plt.xlabel('epoch')\n",
    "    plt.legend(['train', 'test'], loc='upper left')\n",
    "    plt.show()\n",
    "    # Show accuracy\n",
    "    plt.plot(history.history['binary_accuracy'])\n",
    "    plt.plot(history.history['val_binary_accuracy'])\n",
    "    plt.title(F'Accuracy for {name}')\n",
    "    plt.ylabel('accuracy')\n",
    "    plt.xlabel('epoch')\n",
    "    plt.legend(['train', 'test'], loc='upper left')\n",
    "    plt.show()"
   ]
  },
  {
   "cell_type": "code",
   "execution_count": 12,
   "id": "39d63ebe-0b83-4215-b855-eb41276b1f14",
   "metadata": {},
   "outputs": [
    {
     "name": "stderr",
     "output_type": "stream",
     "text": [
      "WARNING:absl:Found untraced functions such as lstm_cell_31_layer_call_fn, lstm_cell_31_layer_call_and_return_conditional_losses, lstm_cell_32_layer_call_fn, lstm_cell_32_layer_call_and_return_conditional_losses, lstm_cell_34_layer_call_fn while saving (showing 5 of 12). These functions will not be directly callable after loading.\n"
     ]
    },
    {
     "name": "stdout",
     "output_type": "stream",
     "text": [
      "INFO:tensorflow:Assets written to: ../saved_model/help_and_support_simple2023-04-21T23:26:41.282993/assets\n"
     ]
    },
    {
     "name": "stderr",
     "output_type": "stream",
     "text": [
      "INFO:tensorflow:Assets written to: ../saved_model/help_and_support_simple2023-04-21T23:26:41.282993/assets\n"
     ]
    },
    {
     "name": "stdout",
     "output_type": "stream",
     "text": [
      "99% confidence: \"Hey guys, I'm new here, can I get some help setting up ELRS?\" \n",
      "99% confidence: \"I can't seem to get my Mobula 6 to bind with my TX16S\" \n",
      "99% confidence: \"Can anyone help me figure out why my link drops when I use VTX Admin?\" \n",
      "93% confidence: \"I just got a Crux 3 and can't figure out how to set up the SPI receiver, anyone know how to do that?\" \n",
      "97% confidence: \"Is there anyone here who has experience with the Crux 3 and the Jumper T-Pro?\" \n",
      "90% confidence: \"How do I turn off model match?\" \n",
      "99% confidence: \"How do I flash an RX with the TX firmware?\" \n",
      "98% confidence: \"Hi guys, I'm new to ELRS and excited to fly since I'm all set up!\" \n",
      "1% confidence: \"Thanks for all the help and support!\" \n",
      "5% confidence: \"Hey guys how's everyone doing?\" \n",
      "1% confidence: \"Why would I want to use that?\" \n",
      "3% confidence: \"I solder things with a copper block\" \n",
      "2% confidence: \"What time is it?\" \n",
      "1% confidence: \"A TCXO is a fixed-frequency crystal, not affected by temperature\" \n",
      "6% confidence: \"Could you do me a favor?\" \n",
      "1% confidence: \"Should I take general chat maybe?\" \n",
      "1% confidence: \"You should connect to the WiFi and use the /hardware.html page\" \n",
      "1% confidence: \"Thanks for the link! That's awesome\" \n",
      "3% confidence: \"What?\" \n"
     ]
    }
   ],
   "source": [
    "# Create a model that's ready to use\n",
    "\n",
    "export_model = tf.keras.Sequential([\n",
    "  vectorize_layer,\n",
    "  model,\n",
    "  layers.Activation('sigmoid')\n",
    "])\n",
    "\n",
    "export_model.compile(\n",
    "    loss=tf.losses.BinaryCrossentropy(from_logits=False), optimizer=\"adam\", metrics=['accuracy']\n",
    ")\n",
    "\n",
    "# Save it\n",
    "export_model.save(F'../saved_model/{MODEL_NAME}_' + name + datetime.now().strftime('%Y-%m-%dT%H:%M:%S.%f%z'))\n",
    "\n",
    "# Test it\n",
    "inputs = [\n",
    "    \"Hey guys, I'm new here, can I get some help setting up ELRS?\",\n",
    "    \"I can't seem to get my Mobula 6 to bind with my TX16S\",\n",
    "    \"Can anyone help me figure out why my link drops when I use VTX Admin?\",\n",
    "    \"I just got a Crux 3 and can't figure out how to set up the SPI receiver, anyone know how to do that?\",\n",
    "    \"Is there anyone here who has experience with the Crux 3 and the Jumper T-Pro?\",\n",
    "    \"How do I turn off model match?\",\n",
    "    \"How do I flash an RX with the TX firmware?\",\n",
    "    \"Hi guys, I'm new to ELRS and excited to fly since I'm all set up!\",\n",
    "    \"Thanks for all the help and support!\",\n",
    "    \"Hey guys how's everyone doing?\",\n",
    "    \"Why would I want to use that?\",\n",
    "    \"I solder things with a copper block\",\n",
    "    \"What time is it?\",\n",
    "    \"A TCXO is a fixed-frequency crystal, not affected by temperature\",\n",
    "    \"Could you do me a favor?\",\n",
    "    \"Should I take general chat maybe?\",\n",
    "    \"You should connect to the WiFi and use the /hardware.html page\",\n",
    "    \"Thanks for the link! That's awesome\",\n",
    "    \"What?\",\n",
    "]\n",
    "\n",
    "results = export_model.predict(inputs, verbose=0)\n",
    "results_percentages = list(map(lambda x: round(x[0] * 100), results.tolist()))\n",
    "for i in range(len(results)):\n",
    "    print(f\"{results_percentages[i]}% confidence: \\\"{inputs[i]}\\\" \") "
   ]
  }
 ],
 "metadata": {
  "kernelspec": {
   "display_name": "Python 3 (ipykernel)",
   "language": "python",
   "name": "python3"
  },
  "language_info": {
   "codemirror_mode": {
    "name": "ipython",
    "version": 3
   },
   "file_extension": ".py",
   "mimetype": "text/x-python",
   "name": "python",
   "nbconvert_exporter": "python",
   "pygments_lexer": "ipython3",
   "version": "3.10.6"
  },
  "toc-showcode": true
 },
 "nbformat": 4,
 "nbformat_minor": 5
}
